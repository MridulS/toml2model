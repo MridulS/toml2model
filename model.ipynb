{
 "cells": [
  {
   "cell_type": "code",
   "execution_count": 1,
   "id": "50569bb0-d27e-4892-924f-a801e44e1688",
   "metadata": {},
   "outputs": [],
   "source": [
    "import numpy as np\n",
    "from load_model import load_model_file"
   ]
  },
  {
   "cell_type": "code",
   "execution_count": 2,
   "id": "cb62ce12-4acd-43cd-98aa-ea2f6d6feff3",
   "metadata": {},
   "outputs": [],
   "source": [
    "A = np.random.rand(10)\n",
    "B = np.random.rand(10)\n",
    "C = np.zeros(10)"
   ]
  },
  {
   "cell_type": "code",
   "execution_count": 3,
   "id": "6f428223-f3ee-4738-97ad-719268a51d14",
   "metadata": {},
   "outputs": [],
   "source": [
    "model, equations = load_model_file('model.toml')"
   ]
  },
  {
   "cell_type": "code",
   "execution_count": 4,
   "id": "8f84aede-97ee-49f6-bc86-528afb6d692a",
   "metadata": {},
   "outputs": [
    {
     "data": {
      "text/plain": [
       "Model(states=['m', 'n'], actions=['c', 'd'], post_states=['a', 'b'])"
      ]
     },
     "execution_count": 4,
     "metadata": {},
     "output_type": "execute_result"
    }
   ],
   "source": [
    "model"
   ]
  },
  {
   "cell_type": "code",
   "execution_count": 5,
   "id": "aa0bff61-bf4c-4666-a0e2-c370a5d4e0c5",
   "metadata": {},
   "outputs": [
    {
     "data": {
      "text/plain": [
       "b = d**2 + n/2 + log(d)/pi"
      ]
     },
     "execution_count": 5,
     "metadata": {},
     "output_type": "execute_result"
    }
   ],
   "source": [
    "equations[1]"
   ]
  },
  {
   "cell_type": "code",
   "execution_count": 6,
   "id": "a34fd1b7-1f59-4650-8fbb-b2f6dd5558b5",
   "metadata": {},
   "outputs": [],
   "source": [
    "eq = equations[1]"
   ]
  },
  {
   "cell_type": "code",
   "execution_count": 7,
   "id": "b8830ad6-6e53-43a2-b829-b10558b29ecd",
   "metadata": {},
   "outputs": [
    {
     "data": {
      "text/plain": [
       "b = d**2 + n/2 + log(d)/pi"
      ]
     },
     "execution_count": 7,
     "metadata": {},
     "output_type": "execute_result"
    }
   ],
   "source": [
    "eq"
   ]
  },
  {
   "cell_type": "code",
   "execution_count": 8,
   "id": "7ba8a99e-635d-4d5b-9f4c-61673698fedb",
   "metadata": {},
   "outputs": [
    {
     "data": {
      "text/plain": [
       "101.0"
      ]
     },
     "execution_count": 8,
     "metadata": {},
     "output_type": "execute_result"
    }
   ],
   "source": [
    "eq(d=1, n=200)"
   ]
  },
  {
   "cell_type": "code",
   "execution_count": 9,
   "id": "2738002c-1e02-486f-bcc1-2d06dd8b95c6",
   "metadata": {},
   "outputs": [
    {
     "name": "stderr",
     "output_type": "stream",
     "text": [
      "<lambdifygenerated-2>:2: RuntimeWarning: divide by zero encountered in log\n",
      "  return d**2 + (1/2)*n + log(d)/pi\n"
     ]
    },
    {
     "data": {
      "text/plain": [
       "-inf"
      ]
     },
     "execution_count": 9,
     "metadata": {},
     "output_type": "execute_result"
    }
   ],
   "source": [
    "eq(d=0, n=200)"
   ]
  },
  {
   "cell_type": "code",
   "execution_count": 10,
   "id": "377cabc7-75e5-4c6d-8731-61979172e930",
   "metadata": {},
   "outputs": [
    {
     "data": {
      "text/plain": [
       "array([ 0.18922367,  0.92389026, -0.40565193,  0.18924227,  0.56162174,\n",
       "        0.34829259,  0.86838116,  0.322324  ,  0.74797579,  1.30994586])"
      ]
     },
     "execution_count": 10,
     "metadata": {},
     "output_type": "execute_result"
    }
   ],
   "source": [
    "eq(d=A, n=B)"
   ]
  },
  {
   "cell_type": "code",
   "execution_count": 11,
   "id": "c0b4f520-a422-4f40-be0b-b14a15eadf63",
   "metadata": {},
   "outputs": [
    {
     "data": {
      "text/plain": [
       "array([-inf, -inf, -inf, -inf, -inf, -inf, -inf, -inf, -inf, -inf])"
      ]
     },
     "execution_count": 11,
     "metadata": {},
     "output_type": "execute_result"
    }
   ],
   "source": [
    "eq(d=C, n=B)"
   ]
  },
  {
   "cell_type": "code",
   "execution_count": 12,
   "id": "d9f15154-65f1-48d2-9540-871bcad0c847",
   "metadata": {},
   "outputs": [
    {
     "data": {
      "text/latex": [
       "$\\displaystyle 2 d + \\frac{1}{\\pi d}$"
      ],
      "text/plain": [
       "2*d + 1/(pi*d)"
      ]
     },
     "execution_count": 12,
     "metadata": {},
     "output_type": "execute_result"
    }
   ],
   "source": [
    "eq.diff('d')"
   ]
  },
  {
   "cell_type": "code",
   "execution_count": 13,
   "id": "5addea76-e33e-4f33-afd8-bfa4ad0848b0",
   "metadata": {},
   "outputs": [
    {
     "data": {
      "text/plain": [
       "2.3183098861837905"
      ]
     },
     "execution_count": 13,
     "metadata": {},
     "output_type": "execute_result"
    }
   ],
   "source": [
    "eq(d=1)"
   ]
  },
  {
   "cell_type": "code",
   "execution_count": 14,
   "id": "385c2ce3-65e3-4af8-ba77-6f20f5aee8d3",
   "metadata": {},
   "outputs": [
    {
     "data": {
      "text/latex": [
       "$\\displaystyle 2 - \\frac{1}{\\pi d^{2}}$"
      ],
      "text/plain": [
       "2 - 1/(pi*d**2)"
      ]
     },
     "execution_count": 14,
     "metadata": {},
     "output_type": "execute_result"
    }
   ],
   "source": [
    "eq.diff('d')"
   ]
  },
  {
   "cell_type": "code",
   "execution_count": 15,
   "id": "2f0b1bf8-06bb-4789-8b96-6a33592e64fb",
   "metadata": {},
   "outputs": [
    {
     "data": {
      "text/plain": [
       "b = 2 - 1/(pi*d**2)"
      ]
     },
     "execution_count": 15,
     "metadata": {},
     "output_type": "execute_result"
    }
   ],
   "source": [
    "eq"
   ]
  },
  {
   "cell_type": "code",
   "execution_count": 16,
   "id": "1481c324-f222-40cd-ba29-01747521a034",
   "metadata": {},
   "outputs": [
    {
     "data": {
      "text/plain": [
       "1.6816901138162093"
      ]
     },
     "execution_count": 16,
     "metadata": {},
     "output_type": "execute_result"
    }
   ],
   "source": [
    "eq(d=1)"
   ]
  },
  {
   "cell_type": "code",
   "execution_count": 17,
   "id": "48fdf020-4460-4411-a0db-8d6b911d571d",
   "metadata": {},
   "outputs": [
    {
     "data": {
      "text/plain": [
       "1.6816901138162093"
      ]
     },
     "execution_count": 17,
     "metadata": {},
     "output_type": "execute_result"
    }
   ],
   "source": [
    "2 - 1/np.pi"
   ]
  },
  {
   "cell_type": "code",
   "execution_count": null,
   "id": "03c4d350-e255-49a4-8cc0-3bb20fe24551",
   "metadata": {},
   "outputs": [],
   "source": []
  }
 ],
 "metadata": {
  "kernelspec": {
   "display_name": "Python 3 (ipykernel)",
   "language": "python",
   "name": "python3"
  },
  "language_info": {
   "codemirror_mode": {
    "name": "ipython",
    "version": 3
   },
   "file_extension": ".py",
   "mimetype": "text/x-python",
   "name": "python",
   "nbconvert_exporter": "python",
   "pygments_lexer": "ipython3",
   "version": "3.11.4"
  }
 },
 "nbformat": 4,
 "nbformat_minor": 5
}
